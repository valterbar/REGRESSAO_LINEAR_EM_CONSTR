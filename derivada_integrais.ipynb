{
  "nbformat": 4,
  "nbformat_minor": 0,
  "metadata": {
    "colab": {
      "provenance": [],
      "authorship_tag": "ABX9TyPczIZg/JqHmFf5nFcG2OFx",
      "include_colab_link": true
    },
    "kernelspec": {
      "name": "python3",
      "display_name": "Python 3"
    },
    "language_info": {
      "name": "python"
    }
  },
  "cells": [
    {
      "cell_type": "markdown",
      "metadata": {
        "id": "view-in-github",
        "colab_type": "text"
      },
      "source": [
        "<a href=\"https://colab.research.google.com/github/valterbar/REGRESSAO_LINEAR_EM_CONSTR/blob/main/derivada_integrais.ipynb\" target=\"_parent\"><img src=\"https://colab.research.google.com/assets/colab-badge.svg\" alt=\"Open In Colab\"/></a>"
      ]
    },
    {
      "cell_type": "code",
      "execution_count": 1,
      "metadata": {
        "id": "yEk53avdlCau"
      },
      "outputs": [],
      "source": [
        "from sympy import *"
      ]
    },
    {
      "cell_type": "code",
      "source": [
        "x= Symbol('x')"
      ],
      "metadata": {
        "id": "LER-BsdRlG1L"
      },
      "execution_count": null,
      "outputs": []
    },
    {
      "cell_type": "code",
      "source": [
        "(x**2 + sin(x))"
      ],
      "metadata": {
        "colab": {
          "base_uri": "https://localhost:8080/",
          "height": 38
        },
        "id": "adjMB79alJNO",
        "outputId": "9cb792fd-93e4-4249-ab51-0e024665788b"
      },
      "execution_count": null,
      "outputs": [
        {
          "output_type": "execute_result",
          "data": {
            "text/plain": [
              "x**2 + sin(x)"
            ],
            "text/latex": "$\\displaystyle x^{2} + \\sin{\\left(x \\right)}$"
          },
          "metadata": {},
          "execution_count": 4
        }
      ]
    },
    {
      "cell_type": "code",
      "source": [
        "(x**2 + sin(x)).diff(x)"
      ],
      "metadata": {
        "colab": {
          "base_uri": "https://localhost:8080/",
          "height": 38
        },
        "id": "QnBbGZMblOXn",
        "outputId": "b0d1751f-7da8-4b6b-c4c5-8bdc63f7cb17"
      },
      "execution_count": null,
      "outputs": [
        {
          "output_type": "execute_result",
          "data": {
            "text/plain": [
              "2*x + cos(x)"
            ],
            "text/latex": "$\\displaystyle 2 x + \\cos{\\left(x \\right)}$"
          },
          "metadata": {},
          "execution_count": 5
        }
      ]
    },
    {
      "cell_type": "code",
      "source": [
        "(x**2 + sin(x)).diff(x,2)## segunda derivada"
      ],
      "metadata": {
        "colab": {
          "base_uri": "https://localhost:8080/",
          "height": 38
        },
        "id": "Er8uwTlelX6J",
        "outputId": "3aa80cb5-5756-4ec0-ff85-8e64fa06336e"
      },
      "execution_count": null,
      "outputs": [
        {
          "output_type": "execute_result",
          "data": {
            "text/plain": [
              "2 - sin(x)"
            ],
            "text/latex": "$\\displaystyle 2 - \\sin{\\left(x \\right)}$"
          },
          "metadata": {},
          "execution_count": 6
        }
      ]
    },
    {
      "cell_type": "code",
      "source": [
        "Derivative(x**2+sin(x))"
      ],
      "metadata": {
        "colab": {
          "base_uri": "https://localhost:8080/",
          "height": 52
        },
        "id": "H7S4ZcBelhoq",
        "outputId": "3de3ffdf-6b3e-4bd7-9d21-5023ce4d75b6"
      },
      "execution_count": null,
      "outputs": [
        {
          "output_type": "execute_result",
          "data": {
            "text/plain": [
              "Derivative(x**2 + sin(x), x)"
            ],
            "text/latex": "$\\displaystyle \\frac{d}{d x} \\left(x^{2} + \\sin{\\left(x \\right)}\\right)$"
          },
          "metadata": {},
          "execution_count": 7
        }
      ]
    },
    {
      "cell_type": "code",
      "source": [
        "Derivative(x**2+sin(x)).doit()"
      ],
      "metadata": {
        "colab": {
          "base_uri": "https://localhost:8080/",
          "height": 38
        },
        "id": "98Qr15MKltAE",
        "outputId": "e83d7c00-90d9-4c72-d7f5-c65bdcd54513"
      },
      "execution_count": null,
      "outputs": [
        {
          "output_type": "execute_result",
          "data": {
            "text/plain": [
              "2*x + cos(x)"
            ],
            "text/latex": "$\\displaystyle 2 x + \\cos{\\left(x \\right)}$"
          },
          "metadata": {},
          "execution_count": 8
        }
      ]
    },
    {
      "cell_type": "code",
      "source": [],
      "metadata": {
        "id": "RyP_acn4lzxd"
      },
      "execution_count": null,
      "outputs": []
    },
    {
      "cell_type": "code",
      "source": [
        "import numpy as np\n",
        "import matplotlib.pyplot as plt\n",
        "import sympy as sp\n",
        "\n",
        "# Defina a variável simbólica x\n",
        "x = sp.symbols('x')\n",
        "\n",
        "# Defina a função\n",
        "funcao = x**2 + sp.sin(x)\n",
        "\n",
        "# Calcule a derivada\n",
        "derivada = sp.diff(funcao, x)\n",
        "\n",
        "# Converta a expressão simbólica da derivada em uma função numérica\n",
        "funcao_derivada = sp.lambdify(x, derivada, 'numpy')\n",
        "\n",
        "# Crie um array de valores de x para o gráfico\n",
        "valores_x = np.linspace(-2*np.pi, 2*np.pi, 400)\n",
        "valores_y = funcao_derivada(valores_x)\n",
        "\n",
        "# Crie o gráfico\n",
        "plt.figure(figsize=(8, 6))\n",
        "plt.plot(valores_x, valores_y, label=\"Derivada de $x^2 + \\sin(x)$\")\n",
        "plt.title(\"Gráfico da Derivada\")\n",
        "plt.xlabel(\"x\")\n",
        "plt.ylabel(\"Derivada\")\n",
        "plt.legend()\n",
        "plt.grid(True)\n",
        "plt.show()\n"
      ],
      "metadata": {
        "colab": {
          "base_uri": "https://localhost:8080/",
          "height": 564
        },
        "id": "YW9-q9FomfCd",
        "outputId": "fb11cf66-c491-439d-bb6b-cd203c79889a"
      },
      "execution_count": null,
      "outputs": [
        {
          "output_type": "display_data",
          "data": {
            "text/plain": [
              "<Figure size 800x600 with 1 Axes>"
            ],
            "image/png": "[encoded data removed]"
          },
          "metadata": {}
        }
      ]
    },
    {
      "cell_type": "markdown",
      "source": [],
      "metadata": {
        "id": "5_td-sXgmd9B"
      }
    }
  ]
}